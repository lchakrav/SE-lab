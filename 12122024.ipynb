{
  "nbformat": 4,
  "nbformat_minor": 0,
  "metadata": {
    "colab": {
      "provenance": [],
      "authorship_tag": "ABX9TyNeqMzPPFFHXRABPEmV8whk",
      "include_colab_link": true
    },
    "kernelspec": {
      "name": "python3",
      "display_name": "Python 3"
    },
    "language_info": {
      "name": "python"
    }
  },
  "cells": [
    {
      "cell_type": "markdown",
      "metadata": {
        "id": "view-in-github",
        "colab_type": "text"
      },
      "source": [
        "<a href=\"https://colab.research.google.com/github/lchakrav/SE-lab/blob/main/12122024.ipynb\" target=\"_parent\"><img src=\"https://colab.research.google.com/assets/colab-badge.svg\" alt=\"Open In Colab\"/></a>"
      ]
    },
    {
      "cell_type": "code",
      "execution_count": null,
      "metadata": {
        "colab": {
          "base_uri": "https://localhost:8080/"
        },
        "id": "QKZRhTBe4kfv",
        "outputId": "12e61903-50f2-4e28-c217-23c2ca6125d1"
      },
      "outputs": [
        {
          "output_type": "stream",
          "name": "stdout",
          "text": [
            "Enter temperature (T): 20\n",
            "Enter humidity (H): 40\n",
            "Enter wind (W): 5\n",
            "Weather: 177.5\n"
          ]
        }
      ],
      "source": [
        "def calculate_weather(T, H, W):\n",
        "    \"\"\"\n",
        "    Calculate the weather using the given equation.\n",
        "\n",
        "    Args:\n",
        "        T (float): Temperature.\n",
        "        H (float): Humidity.\n",
        "        W (float): Wind.\n",
        "\n",
        "    Returns:\n",
        "        float: The calculated weather.\n",
        "    \"\"\"\n",
        "    weather = 0.5 * T**2 - 0.2 * H + 0.1 * W - 15\n",
        "    return weather\n",
        "\n",
        "def main():\n",
        "    # Accept variables via keyboard input\n",
        "    T = float(input(\"Enter temperature (T): \"))\n",
        "    H = float(input(\"Enter humidity (H): \"))\n",
        "    W = float(input(\"Enter wind (W): \"))\n",
        "\n",
        "    weather = calculate_weather(T, H, W)\n",
        "    print(\"Weather:\", weather)\n",
        "\n",
        "if __name__ == \"__main__\":\n",
        "    main()"
      ]
    },
    {
      "cell_type": "code",
      "source": [
        "import math\n",
        "\n",
        "def quadratic_weather_model(a, b, c):\n",
        "    \"\"\"\n",
        "    Models weather using a quadratic equation.\n",
        "\n",
        "    Args:\n",
        "    a, b, c: Coefficients of the quadratic equation.\n",
        "\n",
        "    Returns:\n",
        "    A tuple containing the two possible solutions (temperatures)\n",
        "    or an appropriate message if there are no real solutions.\n",
        "    \"\"\"\n",
        "\n",
        "    delta = (b**2) - 4*(a*c)\n",
        "\n",
        "    if delta < 0:\n",
        "        return \"No real solutions for temperature exist.\"\n",
        "    else:\n",
        "        x1 = (-b - math.sqrt(delta)) / (2*a)\n",
        "        x2 = (-b + math.sqrt(delta)) / (2*a)\n",
        "        return x1, x2\n",
        "\n",
        "\n",
        "# Stage 1: Hard-coded variables\n",
        "a_hc, b_hc, c_hc = 1, -5, 6\n",
        "result_hc = quadratic_weather_model(a_hc, b_hc, c_hc)\n",
        "print(\"Stage 1 (Hard-coded):\", result_hc)\n",
        "\n",
        "\n",
        "# Stage 2: Keyboard input\n",
        "try:\n",
        "  a_ki = float(input(\"Enter coefficient a: \"))\n",
        "  b_ki = float(input(\"Enter coefficient b: \"))\n",
        "  c_ki = float(input(\"Enter coefficient c: \"))\n",
        "  result_ki = quadratic_weather_model(a_ki, b_ki, c_ki)\n",
        "  print(\"Stage 2 (Keyboard Input):\", result_ki)\n",
        "\n",
        "except ValueError:\n",
        "  print(\"Invalid input. Please enter numerical values.\")\n",
        "\n",
        "\n",
        "# Stage 3: Read from a file (assuming a file named 'weather_data.txt')\n",
        "# File format:  a b c (one set of coefficients per line)\n",
        "try:\n",
        "    with open('weather_data.txt', 'r') as file:\n",
        "        a_f, b_f, c_f = map(float, file.readline().split())  # Reads only the first line\n",
        "        result_f = quadratic_weather_model(a_f, b_f, c_f)\n",
        "        print(\"Stage 3 (File Input):\", result_f)\n",
        "\n",
        "except FileNotFoundError:\n",
        "    print(\"weather_data.txt not found.\")\n",
        "except ValueError:\n",
        "    print(\"Invalid data in weather_data.txt. Please ensure correct format (a b c).\")\n",
        "\n",
        "\n",
        "\n",
        "# Stage 4: Multiple sets of inputs from a file\n",
        "try:\n",
        "  print(\"Stage 4 (Multiple Inputs from File):\")\n",
        "  with open('weather_data.txt','r') as file:\n",
        "      for line in file:\n",
        "          try:\n",
        "              a_m, b_m, c_m = map(float, line.split())\n",
        "              result_m = quadratic_weather_model(a_m,b_m,c_m)\n",
        "              print(f\"  Coefficients: a = {a_m}, b = {b_m}, c = {c_m}, Result = {result_m}\")\n",
        "          except ValueError:\n",
        "              print(\"Invalid input on a line in the file.\")\n",
        "except FileNotFoundError:\n",
        "  print(\"weather_data.txt not found.\")"
      ],
      "metadata": {
        "colab": {
          "base_uri": "https://localhost:8080/"
        },
        "id": "78kCQF6tEKBX",
        "outputId": "edb79d7a-efda-4328-cc68-20c73933e44e"
      },
      "execution_count": 1,
      "outputs": [
        {
          "output_type": "stream",
          "name": "stdout",
          "text": [
            "Stage 1 (Hard-coded): (2.0, 3.0)\n",
            "Enter coefficient a: 1\n",
            "Enter coefficient b: 2\n",
            "Enter coefficient c: 1\n",
            "Stage 2 (Keyboard Input): (-1.0, -1.0)\n",
            "weather_data.txt not found.\n",
            "Stage 4 (Multiple Inputs from File):\n",
            "weather_data.txt not found.\n"
          ]
        }
      ]
    },
    {
      "cell_type": "markdown",
      "source": [],
      "metadata": {
        "id": "xmIuJWjT9FNN"
      }
    }
  ]
}